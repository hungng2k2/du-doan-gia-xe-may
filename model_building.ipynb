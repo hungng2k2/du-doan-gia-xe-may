{
 "cells": [
  {
   "attachments": {},
   "cell_type": "markdown",
   "metadata": {},
   "source": [
    "Khai báo thư viện"
   ]
  },
  {
   "cell_type": "code",
   "execution_count": 16,
   "metadata": {},
   "outputs": [],
   "source": [
    "import pandas as pd\n",
    "import numpy as np\n",
    "from sklearn.pipeline import Pipeline, make_pipeline\n",
    "from sklearn.base import BaseEstimator, TransformerMixin\n",
    "from sklearn.model_selection import train_test_split\n",
    "from sklearn.linear_model import LinearRegression\n",
    "from sklearn.ensemble import GradientBoostingRegressor\n",
    "from sklearn.metrics import r2_score\n",
    "from sklearn.decomposition import PCA\n",
    "from sklearn.preprocessing import StandardScaler\n",
    "from sklearn.metrics import mean_squared_error\n",
    "from sklearn.metrics import mean_absolute_error\n",
    "import warnings\n",
    "warnings.filterwarnings('ignore')\n",
    "np.random.seed(20)\n",
    "pd.set_option('display.max_rows', None)"
   ]
  },
  {
   "attachments": {},
   "cell_type": "markdown",
   "metadata": {},
   "source": [
    "Khai báo các hàm sử dụng"
   ]
  },
  {
   "cell_type": "code",
   "execution_count": 17,
   "metadata": {},
   "outputs": [],
   "source": [
    "class Gaussion_dist(BaseEstimator, TransformerMixin):\n",
    "    def __init__(self, feature: str, isInt=True) -> None:\n",
    "        self.feature = feature\n",
    "        self.isInt = isInt\n",
    "    def fit(self, X: pd.DataFrame, y=None):\n",
    "        self.uppper_boundary = X[self.feature].mean() + 3*X[self.feature].std()\n",
    "        self.lower_boundary = X[self.feature].mean() - 3*X[self.feature].std()\n",
    "        if self.isInt:\n",
    "            self.uppper_boundary = int(self.uppper_boundary)\n",
    "            self.lower_boundary = int(self.lower_boundary)\n",
    "        return self\n",
    "    def transform(self, X: pd.DataFrame):\n",
    "        X_copy = X.copy()\n",
    "        X_copy.loc[X_copy[self.feature]>=self.uppper_boundary, self.feature] = self.uppper_boundary\n",
    "        X_copy.loc[X_copy[self.feature]<=self.lower_boundary, self.feature] = self.lower_boundary\n",
    "        return X_copy"
   ]
  },
  {
   "cell_type": "code",
   "execution_count": 18,
   "metadata": {},
   "outputs": [],
   "source": [
    "class Skewed_dist(BaseEstimator, TransformerMixin):\n",
    "    def __init__(self, feature: str, isInt=True) -> None:\n",
    "        self.feature = feature\n",
    "        self.isInt = isInt\n",
    "    def fit(self, X: pd.DataFrame, y=None):\n",
    "        IQR = X[self.feature].quantile(0.75) - X[self.feature].quantile(0.25)\n",
    "        self.uppper_bridge = X[self.feature].quantile(0.75)+(IQR*1.5)\n",
    "        self.lower_bridge = X[self.feature].quantile(0.25)-(IQR*1.5)\n",
    "        if self.isInt:\n",
    "            self.uppper_bridge = int(self.uppper_bridge)\n",
    "            self.lower_bridge = int(self.lower_bridge)\n",
    "        return self\n",
    "    def transform(self, X: pd.DataFrame):\n",
    "        X_copy = X.copy()\n",
    "        X_copy.loc[X_copy[self.feature]>=self.uppper_bridge, self.feature] = self.uppper_bridge\n",
    "        X_copy.loc[X_copy[self.feature]<=self.lower_bridge, self.feature] = self.lower_bridge\n",
    "        return X_copy"
   ]
  },
  {
   "cell_type": "code",
   "execution_count": 19,
   "metadata": {},
   "outputs": [],
   "source": [
    "def r2_score_predict(X: pd.DataFrame, y: pd.DataFrame, pipe: Pipeline):\n",
    "    X_train, X_test, y_train, y_test = train_test_split(X, y, test_size=0.3, random_state=32)\n",
    "    pipe.fit(X_train, y_train)\n",
    "    r2_train = r2_score(y_train, pipe.predict(X_train))\n",
    "    r2_test = r2_score(y_test, pipe.predict(X_test))\n",
    "    return r2_train, r2_test"
   ]
  },
  {
   "cell_type": "code",
   "execution_count": 20,
   "metadata": {},
   "outputs": [],
   "source": [
    "def getPipeline(year_outlier=None,number_of_km_outlier=None, transformer=None, function=None):\n",
    "    steps = []\n",
    "    if year_outlier != None:\n",
    "        steps.append(('year_outlier', year_outlier))\n",
    "    if number_of_km_outlier != None:\n",
    "        steps.append(('number_of_km_outlier', number_of_km_outlier))\n",
    "    if transformer != None:\n",
    "        steps.append(('transformer', transformer))\n",
    "    steps.append(('PCA', PCA(n_components=30)))\n",
    "    steps.append(('LinearRegression',function))\n",
    "    return Pipeline(steps=steps)"
   ]
  },
  {
   "cell_type": "code",
   "execution_count": 21,
   "metadata": {},
   "outputs": [],
   "source": [
    "def getData(data):\n",
    "    df_new = pd.get_dummies(data, columns= ['Loại xe', 'Dung tích xe', 'Hãng xe', 'Dòng xe'])\n",
    "    df_new = df_new.drop(['Tình trạng', 'Xuất xứ', 'Chính sách bảo hành'], axis=1)\n",
    "    df_new = df_new[(df_new['Giá'] < 50000000) & (df_new['Giá'] > 1000000)]\n",
    "    X = df_new.drop(\"Giá\", axis=1)\n",
    "    y = df_new[\"Giá\"]\n",
    "    return X, y"
   ]
  },
  {
   "attachments": {},
   "cell_type": "markdown",
   "metadata": {},
   "source": [
    "# Mô hình hóa dữ liệu trên Small Dataset"
   ]
  },
  {
   "cell_type": "code",
   "execution_count": 22,
   "metadata": {},
   "outputs": [
    {
     "data": {
      "text/html": [
       "<div>\n",
       "<style scoped>\n",
       "    .dataframe tbody tr th:only-of-type {\n",
       "        vertical-align: middle;\n",
       "    }\n",
       "\n",
       "    .dataframe tbody tr th {\n",
       "        vertical-align: top;\n",
       "    }\n",
       "\n",
       "    .dataframe thead th {\n",
       "        text-align: right;\n",
       "    }\n",
       "</style>\n",
       "<table border=\"1\" class=\"dataframe\">\n",
       "  <thead>\n",
       "    <tr style=\"text-align: right;\">\n",
       "      <th></th>\n",
       "      <th>Hãng xe</th>\n",
       "      <th>Dòng xe</th>\n",
       "      <th>Năm đăng ký</th>\n",
       "      <th>Số Km đã đi</th>\n",
       "      <th>Tình trạng</th>\n",
       "      <th>Loại xe</th>\n",
       "      <th>Dung tích xe</th>\n",
       "      <th>Xuất xứ</th>\n",
       "      <th>Chính sách bảo hành</th>\n",
       "      <th>Giá</th>\n",
       "    </tr>\n",
       "  </thead>\n",
       "  <tbody>\n",
       "    <tr>\n",
       "      <th>0</th>\n",
       "      <td>Yamaha</td>\n",
       "      <td>Nozza</td>\n",
       "      <td>2014</td>\n",
       "      <td>16000</td>\n",
       "      <td>Đã sử dụng</td>\n",
       "      <td>Tay ga</td>\n",
       "      <td>100 - 175 cc</td>\n",
       "      <td>Đang cập nhật</td>\n",
       "      <td>Bảo hành hãng</td>\n",
       "      <td>12800000</td>\n",
       "    </tr>\n",
       "    <tr>\n",
       "      <th>1</th>\n",
       "      <td>Honda</td>\n",
       "      <td>Air Blade</td>\n",
       "      <td>2013</td>\n",
       "      <td>900000</td>\n",
       "      <td>Đã sử dụng</td>\n",
       "      <td>Tay ga</td>\n",
       "      <td>100 - 175 cc</td>\n",
       "      <td>Đang cập nhật</td>\n",
       "      <td>Bảo hành hãng</td>\n",
       "      <td>20500000</td>\n",
       "    </tr>\n",
       "    <tr>\n",
       "      <th>2</th>\n",
       "      <td>Honda</td>\n",
       "      <td>Vision</td>\n",
       "      <td>2019</td>\n",
       "      <td>18236</td>\n",
       "      <td>Đã sử dụng</td>\n",
       "      <td>Tay ga</td>\n",
       "      <td>100 - 175 cc</td>\n",
       "      <td>Đang cập nhật</td>\n",
       "      <td>Bảo hành hãng</td>\n",
       "      <td>29600000</td>\n",
       "    </tr>\n",
       "    <tr>\n",
       "      <th>3</th>\n",
       "      <td>Honda</td>\n",
       "      <td>@</td>\n",
       "      <td>2007</td>\n",
       "      <td>123456</td>\n",
       "      <td>Đã sử dụng</td>\n",
       "      <td>Xe số</td>\n",
       "      <td>100 - 175 cc</td>\n",
       "      <td>Nhật Bản</td>\n",
       "      <td>Bảo hành hãng</td>\n",
       "      <td>8000000</td>\n",
       "    </tr>\n",
       "    <tr>\n",
       "      <th>4</th>\n",
       "      <td>Yamaha</td>\n",
       "      <td>Exciter</td>\n",
       "      <td>2013</td>\n",
       "      <td>2499</td>\n",
       "      <td>Đã sử dụng</td>\n",
       "      <td>Tay côn/Moto</td>\n",
       "      <td>100 - 175 cc</td>\n",
       "      <td>Đang cập nhật</td>\n",
       "      <td>Bảo hành hãng</td>\n",
       "      <td>10800000</td>\n",
       "    </tr>\n",
       "  </tbody>\n",
       "</table>\n",
       "</div>"
      ],
      "text/plain": [
       "  Hãng xe    Dòng xe  Năm đăng ký  Số Km đã đi  Tình trạng       Loại xe  \\\n",
       "0  Yamaha      Nozza         2014        16000  Đã sử dụng        Tay ga   \n",
       "1   Honda  Air Blade         2013       900000  Đã sử dụng        Tay ga   \n",
       "2   Honda     Vision         2019        18236  Đã sử dụng        Tay ga   \n",
       "3   Honda          @         2007       123456  Đã sử dụng         Xe số   \n",
       "4  Yamaha    Exciter         2013         2499  Đã sử dụng  Tay côn/Moto   \n",
       "\n",
       "   Dung tích xe        Xuất xứ Chính sách bảo hành       Giá  \n",
       "0  100 - 175 cc  Đang cập nhật       Bảo hành hãng  12800000  \n",
       "1  100 - 175 cc  Đang cập nhật       Bảo hành hãng  20500000  \n",
       "2  100 - 175 cc  Đang cập nhật       Bảo hành hãng  29600000  \n",
       "3  100 - 175 cc       Nhật Bản       Bảo hành hãng   8000000  \n",
       "4  100 - 175 cc  Đang cập nhật       Bảo hành hãng  10800000  "
      ]
     },
     "execution_count": 22,
     "metadata": {},
     "output_type": "execute_result"
    }
   ],
   "source": [
    "data=pd.read_csv('clean_data/smalldataset.csv')\n",
    "data.head()"
   ]
  },
  {
   "cell_type": "code",
   "execution_count": 23,
   "metadata": {},
   "outputs": [],
   "source": [
    "X, y = getData(data)"
   ]
  },
  {
   "cell_type": "code",
   "execution_count": 24,
   "metadata": {},
   "outputs": [
    {
     "name": "stdout",
     "output_type": "stream",
     "text": [
      "               Model  R2 score on test set (small)  \\\n",
      "0  Linear Regression                      0.318612   \n",
      "1  Gradient Boosting                      0.572646   \n",
      "\n",
      "   R2 score on train set (small)  \n",
      "0                       0.363914  \n",
      "1                       0.794369  \n"
     ]
    }
   ],
   "source": [
    "function_list = [LinearRegression(), GradientBoostingRegressor(learning_rate=0.02, max_depth=6, n_estimators=1500, subsample=0.5)]\n",
    "r2_train_list_small = []\n",
    "r2_test_list_small = []\n",
    "rmse_train_list_small = []\n",
    "rmse_test_list_small = []\n",
    "for function in function_list:\n",
    "    r2_train, r2_test = r2_score_predict(X, y, getPipeline(None, Gaussion_dist('Năm đăng ký', isInt=True), StandardScaler() ,function))\n",
    "    r2_train_list_small.append(r2_train)\n",
    "    r2_test_list_small.append(r2_test)\n",
    "df = pd.DataFrame({'Model': ['Linear Regression', 'Gradient Boosting'], \n",
    "                'R2 score on test set (small)': r2_test_list_small,\n",
    "                'R2 score on train set (small)': r2_train_list_small})\n",
    "print(df)"
   ]
  },
  {
   "cell_type": "code",
   "execution_count": 25,
   "metadata": {},
   "outputs": [
    {
     "name": "stdout",
     "output_type": "stream",
     "text": [
      "               Model  RMSE on test set (small)  RMSE on train set (small)\n",
      "0  Linear Regression              9.380019e+06               9.795679e+06\n",
      "1  Gradient Boosting              7.047838e+06               5.266979e+06\n"
     ]
    }
   ],
   "source": [
    "# mean_squared_error\n",
    "rmse_train_list_small = []\n",
    "rmse_test_list_small = []\n",
    "mae_train_list_small = []\n",
    "mae_test_list_small = []\n",
    "for function in function_list:\n",
    "    X_train, X_test, y_train, y_test = train_test_split(X, y, test_size=0.3, random_state=32)\n",
    "    pipe = getPipeline(None, Gaussion_dist('Năm đăng ký', isInt=True), StandardScaler() ,function)\n",
    "    pipe.fit(X_train, y_train)\n",
    "    rmse_train = mean_squared_error(y_train, pipe.predict(X_train), squared=False)\n",
    "    rmse_test = mean_squared_error(y_test, pipe.predict(X_test), squared=False)   \n",
    "    rmse_train_list_small.append(rmse_train)\n",
    "    rmse_test_list_small.append(rmse_test)\n",
    "    mae_train = mean_absolute_error(y_train, pipe.predict(X_train))\n",
    "    mae_test = mean_absolute_error(y_test, pipe.predict(X_test))\n",
    "    mae_train_list_small.append(mae_train)\n",
    "    mae_test_list_small.append(mae_test)\n",
    "metric = pd.DataFrame({'Model': ['Linear Regression', 'Gradient Boosting'],\n",
    "                'RMSE on test set (small)': rmse_test_list_small,\n",
    "                'RMSE on train set (small)': rmse_train_list_small,\n",
    "                'MAE on test set (small)': mae_test_list_small,\n",
    "                'MAE on train set (small)': mae_train_list_small})\n",
    "print(metric)"
   ]
  },
  {
   "cell_type": "code",
   "execution_count": 26,
   "metadata": {},
   "outputs": [
    {
     "data": {
      "image/png": "[encoded data removed]",
      "text/plain": [
       "<Figure size 1000x500 with 1 Axes>"
      ]
     },
     "metadata": {},
     "output_type": "display_data"
    }
   ],
   "source": [
    "# vẽ biểu đồ so sánh R2 score trên tập train và test của 2 model\n",
    "import matplotlib.pyplot as plt\n",
    "plt.figure(figsize=(10, 5))\n",
    "plt.plot(df['Model'], df['R2 score on test set (small)'], label='R2 score on test set (small)')\n",
    "plt.plot(df['Model'], df['R2 score on train set (small)'], label='R2 score on train set (small)')\n",
    "plt.legend()\n",
    "plt.show()\n"
   ]
  },
  {
   "attachments": {},
   "cell_type": "markdown",
   "metadata": {},
   "source": [
    "# Mô hình hóa dữ liệu trên Big Dataset"
   ]
  },
  {
   "cell_type": "code",
   "execution_count": 27,
   "metadata": {},
   "outputs": [
    {
     "data": {
      "text/html": [
       "<div>\n",
       "<style scoped>\n",
       "    .dataframe tbody tr th:only-of-type {\n",
       "        vertical-align: middle;\n",
       "    }\n",
       "\n",
       "    .dataframe tbody tr th {\n",
       "        vertical-align: top;\n",
       "    }\n",
       "\n",
       "    .dataframe thead th {\n",
       "        text-align: right;\n",
       "    }\n",
       "</style>\n",
       "<table border=\"1\" class=\"dataframe\">\n",
       "  <thead>\n",
       "    <tr style=\"text-align: right;\">\n",
       "      <th></th>\n",
       "      <th>Hãng xe</th>\n",
       "      <th>Dòng xe</th>\n",
       "      <th>Năm đăng ký</th>\n",
       "      <th>Số Km đã đi</th>\n",
       "      <th>Tình trạng</th>\n",
       "      <th>Loại xe</th>\n",
       "      <th>Dung tích xe</th>\n",
       "      <th>Xuất xứ</th>\n",
       "      <th>Chính sách bảo hành</th>\n",
       "      <th>Giá</th>\n",
       "    </tr>\n",
       "  </thead>\n",
       "  <tbody>\n",
       "    <tr>\n",
       "      <th>0</th>\n",
       "      <td>Honda</td>\n",
       "      <td>Wave</td>\n",
       "      <td>1996</td>\n",
       "      <td>20000</td>\n",
       "      <td>Đã sử dụng</td>\n",
       "      <td>Xe số</td>\n",
       "      <td>100 - 175 cc</td>\n",
       "      <td>Đang cập nhật</td>\n",
       "      <td>Bảo hành hãng</td>\n",
       "      <td>1500000.0</td>\n",
       "    </tr>\n",
       "    <tr>\n",
       "      <th>1</th>\n",
       "      <td>Piaggio</td>\n",
       "      <td>Liberty</td>\n",
       "      <td>2014</td>\n",
       "      <td>3000</td>\n",
       "      <td>Đã sử dụng</td>\n",
       "      <td>Tay ga</td>\n",
       "      <td>100 - 175 cc</td>\n",
       "      <td>Đang cập nhật</td>\n",
       "      <td>Bảo hành hãng</td>\n",
       "      <td>9500000.0</td>\n",
       "    </tr>\n",
       "    <tr>\n",
       "      <th>2</th>\n",
       "      <td>Honda</td>\n",
       "      <td>Cub</td>\n",
       "      <td>1992</td>\n",
       "      <td>70000</td>\n",
       "      <td>Đã sử dụng</td>\n",
       "      <td>Xe số</td>\n",
       "      <td>50 - 100 cc</td>\n",
       "      <td>Đang cập nhật</td>\n",
       "      <td>Bảo hành hãng</td>\n",
       "      <td>12000000.0</td>\n",
       "    </tr>\n",
       "    <tr>\n",
       "      <th>3</th>\n",
       "      <td>Yamaha</td>\n",
       "      <td>Exciter</td>\n",
       "      <td>2014</td>\n",
       "      <td>29000</td>\n",
       "      <td>Đã sử dụng</td>\n",
       "      <td>Xe số</td>\n",
       "      <td>100 - 175 cc</td>\n",
       "      <td>Đang cập nhật</td>\n",
       "      <td>Bảo hành hãng</td>\n",
       "      <td>9300000.0</td>\n",
       "    </tr>\n",
       "    <tr>\n",
       "      <th>4</th>\n",
       "      <td>Yamaha</td>\n",
       "      <td>Nouvo</td>\n",
       "      <td>2011</td>\n",
       "      <td>55555</td>\n",
       "      <td>Đã sử dụng</td>\n",
       "      <td>Tay ga</td>\n",
       "      <td>50 - 100 cc</td>\n",
       "      <td>Đang cập nhật</td>\n",
       "      <td>Bảo hành hãng</td>\n",
       "      <td>6200000.0</td>\n",
       "    </tr>\n",
       "  </tbody>\n",
       "</table>\n",
       "</div>"
      ],
      "text/plain": [
       "   Hãng xe  Dòng xe  Năm đăng ký  Số Km đã đi  Tình trạng Loại xe  \\\n",
       "0    Honda     Wave         1996        20000  Đã sử dụng   Xe số   \n",
       "1  Piaggio  Liberty         2014         3000  Đã sử dụng  Tay ga   \n",
       "2    Honda      Cub         1992        70000  Đã sử dụng   Xe số   \n",
       "3   Yamaha  Exciter         2014        29000  Đã sử dụng   Xe số   \n",
       "4   Yamaha    Nouvo         2011        55555  Đã sử dụng  Tay ga   \n",
       "\n",
       "   Dung tích xe        Xuất xứ Chính sách bảo hành         Giá  \n",
       "0  100 - 175 cc  Đang cập nhật       Bảo hành hãng   1500000.0  \n",
       "1  100 - 175 cc  Đang cập nhật       Bảo hành hãng   9500000.0  \n",
       "2   50 - 100 cc  Đang cập nhật       Bảo hành hãng  12000000.0  \n",
       "3  100 - 175 cc  Đang cập nhật       Bảo hành hãng   9300000.0  \n",
       "4   50 - 100 cc  Đang cập nhật       Bảo hành hãng   6200000.0  "
      ]
     },
     "execution_count": 27,
     "metadata": {},
     "output_type": "execute_result"
    }
   ],
   "source": [
    "data=pd.read_csv('clean_data/bigdataset.csv')\n",
    "data.head()"
   ]
  },
  {
   "cell_type": "code",
   "execution_count": 28,
   "metadata": {},
   "outputs": [],
   "source": [
    "X, y = getData(data)"
   ]
  },
  {
   "cell_type": "code",
   "execution_count": 29,
   "metadata": {},
   "outputs": [
    {
     "name": "stdout",
     "output_type": "stream",
     "text": [
      "               Model  R2 score on test set (big)  R2 score on train set (big)\n",
      "0  Linear Regression                    0.395025                     0.424915\n",
      "1  Gradient Boosting                    0.656209                     0.867128\n"
     ]
    }
   ],
   "source": [
    "function_list = [LinearRegression(), GradientBoostingRegressor(learning_rate=0.02, max_depth=6, n_estimators=1500, subsample=0.5)]\n",
    "r2_train_list = []\n",
    "r2_test_list = []\n",
    "for function in function_list:\n",
    "    r2_train, r2_test = r2_score_predict(X, y, getPipeline(Skewed_dist('Năm đăng ký', isInt=False), Skewed_dist('Số Km đã đi', isInt=False),None,function))\n",
    "    r2_train_list.append(r2_train)\n",
    "    r2_test_list.append(r2_test)\n",
    "df = pd.DataFrame({'Model': ['Linear Regression', 'Gradient Boosting'], \n",
    "                'R2 score on test set (big)': r2_test_list,\n",
    "                'R2 score on train set (big)': r2_train_list})\n",
    "print(df)"
   ]
  },
  {
   "cell_type": "code",
   "execution_count": 30,
   "metadata": {},
   "outputs": [
    {
     "name": "stdout",
     "output_type": "stream",
     "text": [
      "               Model  RMSE on test set (big)  RMSE on train set (big)\n",
      "0  Linear Regression            9.094643e+06             8.816615e+06\n",
      "1  Gradient Boosting            6.912265e+06             4.360073e+06\n"

     ]
    }
   ],
   "source": [
    "# mean_squared_error\n",
    "rmse_train_list = []\n",
    "rmse_test_list = []\n",
    "mae_train_list = []\n",
    "mae_test_list = []\n",
    "\n",
    "for function in function_list:\n",
    "    X_train, X_test, y_train, y_test = train_test_split(X, y, test_size=0.3, random_state=32)\n",
    "    pipe = getPipeline(Skewed_dist('Năm đăng ký', isInt=False), Skewed_dist('Số Km đã đi', isInt=False),None,function)\n",
    "    pipe.fit(X_train, y_train)\n",
    "    rmse_train = mean_squared_error(y_train, pipe.predict(X_train), squared=False)\n",
    "    rmse_test = mean_squared_error(y_test, pipe.predict(X_test), squared=False)\n",
    "    rmse_train_list.append(rmse_train)\n",
    "    rmse_test_list.append(rmse_test)\n",
    "    mae_train = mean_absolute_error(y_train, pipe.predict(X_train))\n",
    "    mae_test = mean_absolute_error(y_test, pipe.predict(X_test))\n",
    "    mae_train_list.append(mae_train)\n",
    "    mae_test_list.append(mae_test)\n",
    "metric = pd.DataFrame({'Model': ['Linear Regression', 'Gradient Boosting'],\n",
    "                'RMSE on test set (big)': rmse_test_list,\n",
    "                'RMSE on train set (big)': rmse_train_list,\n",
    "                'MAE on test set (big)': mae_test_list,\n",
    "                'MAE on train set (big)': mae_train_list})\n",
    "print(metric)"
   ]
  },
  {
   "cell_type": "code",
   "execution_count": 31,
   "metadata": {},
   "outputs": [
    {
     "data": {
      "image/png": "[encoded data removed]",
      "text/plain": [
       "<Figure size 1000x500 with 1 Axes>"
      ]
     },
     "metadata": {},
     "output_type": "display_data"
    }
   ],
   "source": [
    "import matplotlib.pyplot as plt\n",
    "plt.figure(figsize=(10, 5))\n",
    "plt.plot(df['Model'], df['R2 score on test set (big)'], label='R2 score on test set (big)')\n",
    "plt.plot(df['Model'], df['R2 score on train set (big)'], label='R2 score on train set (big)')\n",
    "plt.legend()\n",
    "plt.show()"
   ]
  }
 ],
 "metadata": {
  "kernelspec": {
   "display_name": "Python 3",
   "language": "python",
   "name": "python3"
  },
  "language_info": {
   "codemirror_mode": {
    "name": "ipython",
    "version": 3
   },
   "file_extension": ".py",
   "mimetype": "text/x-python",
   "name": "python",
   "nbconvert_exporter": "python",
   "pygments_lexer": "ipython3",
   "version": "3.10.10"
  },
  "orig_nbformat": 4
 },
 "nbformat": 4,
 "nbformat_minor": 2
}
