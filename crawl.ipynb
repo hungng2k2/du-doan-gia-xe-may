{
 "cells": [
  {
   "cell_type": "code",
   "execution_count": 1,
   "metadata": {},
   "outputs": [],
   "source": [
    "import numpy as np\n",
    "from selenium import webdriver\n",
    "from time import sleep\n",
    "import random\n",
    "from selenium.webdriver.common.by import By\n",
    "from selenium.webdriver.chrome.options import Options\n",
    "import pandas as pd\n",
    "import csv\n",
    "from IPython.display import clear_output"
   ]
  },
  {
   "cell_type": "code",
   "execution_count": 2,
   "metadata": {},
   "outputs": [
    {
     "name": "stderr",
     "output_type": "stream",
     "text": [
      "C:\\Users\\PC\\AppData\\Local\\Temp\\ipykernel_5836\\3854239088.py:2: DeprecationWarning: headless property is deprecated, instead use add_argument('--headless') or add_argument('--headless=new')\n",
      "  options.headless = True\n",
      "C:\\Users\\PC\\AppData\\Local\\Temp\\ipykernel_5836\\3854239088.py:4: DeprecationWarning: executable_path has been deprecated, please pass in a Service object\n",
      "  driver = webdriver.Chrome('chromedriver.exe',options=options)\n"
     ]
    }
   ],
   "source": [
    "options = Options()\n",
    "options.headless = True\n",
    "options.add_argument(\"--window-size=1920,1200\")\n",
    "driver = webdriver.Chrome('chromedriver.exe',options=options)"
   ]
  },
  {
   "cell_type": "code",
   "execution_count": 3,
   "metadata": {},
   "outputs": [],
   "source": [
    "def crawl_data(number_size):\n",
    "    count = 0\n",
    "    page = 1\n",
    "    first = True\n",
    "    with open('crawl.csv', \"w\", encoding='utf_8') as file:\n",
    "        file.write(\"Hãng xe,Dòng xe,Năm đăng ký,Số Km đã đi,Tình trạng,Loại xe,Dung tích xe,Xuất xứ,Chính sách bảo hành,Giá\\n\")\n",
    "        while count < number_size:\n",
    "            page_string = \"https://xe.chotot.com/mua-ban-xe-may?page=\" + str(page)\n",
    "            driver.get(page_string)\n",
    "            if first:\n",
    "                driver.find_element('xpath', '/html/body').click()\n",
    "                first = False\n",
    "            elements = driver.find_elements(By.CSS_SELECTOR, \".AdItem_wrapperAdItem__S6qPH [href]\")\n",
    "            links = [elem.get_attribute('href') for elem in elements]\n",
    "            for i in range(0, len(links)):\n",
    "                driver.get(links[i])\n",
    "                try:\n",
    "                    more_infor_btn = driver.find_element('xpath', '/html/body/div[1]/div/div[3]/div[1]/div/div[4]/div/div[4]/button')\n",
    "                    more_infor_btn.click()\n",
    "                    hangxe = driver.find_element('xpath', '/html/body/div[1]/div/div[3]/div[1]/div/div[4]/div/div[4]/div[2]/div[1]/div/div[2]/span/a').text\n",
    "                    dongxe = driver.find_element('xpath', '/html/body/div[1]/div/div[3]/div[1]/div/div[4]/div/div[4]/div[2]/div[2]/div/div[2]/span/a').text\n",
    "                    namdk = driver.find_element('xpath', '/html/body/div[1]/div/div[3]/div[1]/div/div[4]/div/div[4]/div[2]/div[3]/div/div[2]/span/span[2]').text\n",
    "                    sokm = driver.find_element('xpath', '/html/body/div[1]/div/div[3]/div[1]/div/div[4]/div/div[4]/div[2]/div[4]/div/div[2]/span/span[2]').text\n",
    "                    tinhtrang = driver.find_element('xpath', '/html/body/div[1]/div/div[3]/div[1]/div/div[4]/div/div[4]/div[2]/div[5]/div/div[2]/span/span[2]').text\n",
    "                    loaixe = driver.find_element('xpath', '/html/body/div[1]/div/div[3]/div[1]/div/div[4]/div/div[4]/div[2]/div[6]/div/div[2]/span/span[2]').text\n",
    "                    dungticxe = driver.find_element('xpath', '/html/body/div[1]/div/div[3]/div[1]/div/div[4]/div/div[4]/div[2]/div[7]/div/div[2]/span/span[2]').text\n",
    "                    xuatsu = driver.find_element('xpath', '/html/body/div[1]/div/div[3]/div[1]/div/div[4]/div/div[4]/div[2]/div[8]/div/div[2]/span/span[2]').text\n",
    "                    chinhsach = driver.find_element('xpath', '/html/body/div[1]/div/div[3]/div[1]/div/div[4]/div/div[4]/div[2]/div[9]/div/div[2]/span/span[2]').text\n",
    "                    price = driver.find_element('xpath', '/html/body/div[1]/div/div[3]/div[1]/div/div[4]/div/div[2]/div/div/div/span/div/span/span/span[1]').text\n",
    "                    data = f\"{str(hangxe.strip())},{str(dongxe.strip())},{str(namdk.strip())},{str(sokm.strip())},{str(tinhtrang.strip())},{str(loaixe.strip())},{str(dungticxe.strip())},{str(xuatsu.strip())},{str(chinhsach.strip())},{str(price.strip())}\\n\"\n",
    "                    clear_output(wait=True)\n",
    "                    print(f\"{count}: {data}\")\n",
    "                    file.write(data)\n",
    "                    count += 1\n",
    "                    if count >= number_size:\n",
    "                        break\n",
    "                except:\n",
    "                    continue\n",
    "            page += 1\n",
    "    file.close()\n",
    "    return page"
   ]
  },
  {
   "cell_type": "code",
   "execution_count": 4,
   "metadata": {},
   "outputs": [
    {
     "name": "stdout",
     "output_type": "stream",
     "text": [
      "9: Honda,Dòng khác,2017,8467,Đã sử dụng,Xe số,100 - 175 cc,Đang cập nhật,Bảo hành hãng,6.500.000 đ\n",
      "\n"
     ]
    }
   ],
   "source": [
    "page = crawl_data(number_size=10)"
   ]
  },
  {
   "cell_type": "code",
   "execution_count": 5,
   "metadata": {},
   "outputs": [
    {
     "data": {
      "text/plain": [
       "2"
      ]
     },
     "execution_count": 5,
     "metadata": {},
     "output_type": "execute_result"
    }
   ],
   "source": [
    "page"
   ]
  }
 ],
 "metadata": {
  "kernelspec": {
   "display_name": "Python 3",
   "language": "python",
   "name": "python3"
  },
  "language_info": {
   "codemirror_mode": {
    "name": "ipython",
    "version": 3
   },
   "file_extension": ".py",
   "mimetype": "text/x-python",
   "name": "python",
   "nbconvert_exporter": "python",
   "pygments_lexer": "ipython3",
   "version": "3.10.7"
  },
  "orig_nbformat": 4
 },
 "nbformat": 4,
 "nbformat_minor": 2
}
